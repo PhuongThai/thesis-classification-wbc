{
  "nbformat": 4,
  "nbformat_minor": 0,
  "metadata": {
    "kernelspec": {
      "display_name": "Python 3",
      "language": "python",
      "name": "python3"
    },
    "language_info": {
      "codemirror_mode": {
        "name": "ipython",
        "version": 3
      },
      "file_extension": ".py",
      "mimetype": "text/x-python",
      "name": "python",
      "nbconvert_exporter": "python",
      "pygments_lexer": "ipython3",
      "version": "3.6.4"
    },
    "varInspector": {
      "cols": {
        "lenName": 16,
        "lenType": 16,
        "lenVar": 40
      },
      "kernels_config": {
        "python": {
          "delete_cmd_postfix": "",
          "delete_cmd_prefix": "del ",
          "library": "var_list.py",
          "varRefreshCmd": "print(var_dic_list())"
        },
        "r": {
          "delete_cmd_postfix": ") ",
          "delete_cmd_prefix": "rm(",
          "library": "var_list.r",
          "varRefreshCmd": "cat(var_dic_list()) "
        }
      },
      "types_to_exclude": [
        "module",
        "function",
        "builtin_function_or_method",
        "instance",
        "_Feature"
      ],
      "window_display": false
    },
    "colab": {
      "name": "Statistical_Operations_Classification.ipynb",
      "provenance": [],
      "include_colab_link": true
    }
  },
  "cells": [
    {
      "cell_type": "markdown",
      "metadata": {
        "id": "view-in-github",
        "colab_type": "text"
      },
      "source": [
        "<a href=\"https://colab.research.google.com/github/PhuongThai/thesis-classification-wbc/blob/main/Statistical_Operations_Classification.ipynb\" target=\"_parent\"><img src=\"https://colab.research.google.com/assets/colab-badge.svg\" alt=\"Open In Colab\"/></a>"
      ]
    },
    {
      "cell_type": "code",
      "metadata": {
        "id": "ApD6zIzp-V1x"
      },
      "source": [
        "import pandas as pd\n",
        "import numpy as np\n",
        "from sklearn.metrics import accuracy_score, f1_score, precision_score, recall_score, classification_report, confusion_matrix,roc_auc_score"
      ],
      "execution_count": 3,
      "outputs": []
    },
    {
      "cell_type": "code",
      "metadata": {
        "id": "2CKS7DC4-V1y"
      },
      "source": [
        "#validation_features=np.loadtxt('validation_features.csv')\n",
        "train_features = np.load(\"train_features.npy\")\n",
        "train_labels = np.load(\"train_labels.npy\")\n",
        "validation_labels = np.load(\"validation_labels.npy\")\n",
        "validation_features = np.load(\"validation_features.npy\")\n",
        "\n",
        "print(train_features.shape)\n",
        "print(train_labels.shape)\n",
        "print(validation_features.shape)\n",
        "print(validation_labels.shape)"
      ],
      "execution_count": null,
      "outputs": []
    },
    {
      "cell_type": "code",
      "metadata": {
        "id": "70tN9HHK-V1z"
      },
      "source": [
        "whole_feat=np.concatenate((train_features,validation_features))\n",
        "whole_label=np.concatenate((train_labels,validation_labels))\n",
        "print(whole_feat.shape)\n",
        "print(whole_label.shape)"
      ],
      "execution_count": null,
      "outputs": []
    },
    {
      "cell_type": "code",
      "metadata": {
        "id": "RkrSZEAv-V1z"
      },
      "source": [
        "from sklearn.feature_selection import SelectKBest\n",
        "from sklearn.feature_selection import chi2\n",
        "\n",
        "test = SelectKBest(score_func=chi2, k=24500)\n",
        "fit = test.fit(whole_feat, whole_label)\n",
        "# summarize scores\n",
        "np.set_printoptions(precision=3)\n",
        "#print(fit.scores_)\n",
        "features = fit.transform(whole_feat)\n",
        "x_chai=features\n",
        "x_chai.shape"
      ],
      "execution_count": null,
      "outputs": []
    },
    {
      "cell_type": "code",
      "metadata": {
        "id": "xwfxZhE5-V1z"
      },
      "source": [
        "y=whole_label\n",
        "print(y.shape)\n",
        "y1=y[:,1]\n",
        "y=y1\n",
        "y.shape"
      ],
      "execution_count": null,
      "outputs": []
    },
    {
      "cell_type": "code",
      "metadata": {
        "id": "427B-91R-V1z"
      },
      "source": [
        "# Feature Extraction with RFE\n",
        "from pandas import read_csv\n",
        "from sklearn.feature_selection import RFE\n",
        "from sklearn.linear_model import LogisticRegression\n",
        "\n",
        "# feature extraction\n",
        "model = LogisticRegression()\n",
        "rfe = RFE(model, 1000)\n",
        "fit = rfe.fit(x_chai, y)"
      ],
      "execution_count": null,
      "outputs": []
    },
    {
      "cell_type": "code",
      "metadata": {
        "id": "dbXrCXr7-V1z"
      },
      "source": [
        "chai_ref=x_chai\n",
        "print(chai_ref.shape)\n",
        "\n",
        "x=np.where(fit.support_== True)\n",
        "#x=fit.ranking_[1]\n",
        "#data[:,idx_IN_columns]\n",
        "chai_ref=chai_ref[:,x]\n",
        "chai_ref = chai_ref.squeeze()\n",
        "#chai_ref[:,0,:]\n",
        "#chai_ref=chai_ref.index(x)\n",
        "print(chai_ref.shape)\n",
        "#x_chai_Ref=fit(fit.ranking_)\n",
        "#x_chai_Ref.shape"
      ],
      "execution_count": null,
      "outputs": []
    },
    {
      "cell_type": "code",
      "metadata": {
        "id": "IlZJVxhd-V1z"
      },
      "source": [
        "from sklearn.ensemble import ExtraTreesClassifier\n",
        "from sklearn.feature_selection import SelectFromModel\n",
        "\n",
        "clf = ExtraTreesClassifier(n_estimators=22000)\n",
        "clf.fit(chai_ref, y) #chai_ref\n",
        "model = SelectFromModel(clf, prefit=True)\n",
        "chai_ref_Imp = model.transform(chai_ref)\n",
        "chai_ref_Imp.shape"
      ],
      "execution_count": null,
      "outputs": []
    },
    {
      "cell_type": "code",
      "metadata": {
        "id": "WDS7N2PQ-V1z"
      },
      "source": [
        "whole_feat=chai_ref_Imp#chai_ref_Imp#chai_ref_Imp#chai_ref_Imp#chai_ref #x_chai\n",
        "#whole_label=y\n",
        "print(whole_feat.shape)\n",
        "print(y.shape)"
      ],
      "execution_count": null,
      "outputs": []
    },
    {
      "cell_type": "code",
      "metadata": {
        "id": "NZ3p54U5-V1z"
      },
      "source": [
        "from sklearn.discriminant_analysis import QuadraticDiscriminantAnalysis\n",
        "from sklearn.discriminant_analysis import LinearDiscriminantAnalysis\n",
        "from sklearn.ensemble import RandomForestClassifier, AdaBoostClassifier,GradientBoostingClassifier\n",
        "from sklearn.neighbors import KNeighborsClassifier\n",
        "from sklearn.preprocessing import LabelBinarizer\n",
        "from sklearn.model_selection import cross_val_score\n",
        "from sklearn.model_selection import train_test_split\n",
        "#from xgboost.sklearn import XGBClassifier  \n",
        "from sklearn.neural_network import MLPClassifier\n",
        "from sklearn.svm import SVC\n",
        "from sklearn.naive_bayes import GaussianNB\n",
        "from sklearn import tree\n",
        "from sklearn.model_selection import StratifiedKFold\n",
        "import time\n",
        "\n",
        "X=whole_feat#x_chai#chai_ref_Imp\n",
        "y=y\n",
        "\n",
        "lb = LabelBinarizer()\n",
        "y_train = np.array([number[0] for number in lb.fit_transform(y)])\n",
        "\n",
        "classifier=KNeighborsClassifier(n_neighbors=1)\n",
        "\n",
        "print('Knn')\n",
        "print('============================================')\n",
        "#strat_k_fold = StratifiedKFold(n_splits=5, shuffle=True)\n",
        "accuracy = cross_val_score(classifier, X, y, cv=5, scoring='accuracy')\n",
        "print('Mean of accuracy',np.mean(accuracy),accuracy)\n",
        "recall = cross_val_score(classifier, X, y, cv=5, scoring='recall')\n",
        "print('Recall', np.mean(recall), recall)\n",
        "precision = cross_val_score(classifier, X, y, cv=5, scoring='precision')\n",
        "print('Precision', np.mean(precision), precision)\n",
        "f1 = cross_val_score(classifier, X, y, cv=5, scoring='f1')\n",
        "print('F1', np.mean(f1), f1)\n",
        "\n",
        "start = time.time()\n",
        "print('                                         ')\n",
        "print('LDA')\n",
        "print('============================================')\n",
        "\n",
        "classifier=LinearDiscriminantAnalysis()\n",
        "\n",
        "accuracy = cross_val_score(classifier, X, y, cv=5, scoring='accuracy')\n",
        "print('Mean of accuracy',np.mean(accuracy),accuracy)\n",
        "\n",
        "end = time.time()\n",
        "print('time consumed',end - start)\n",
        "recall = cross_val_score(classifier, X, y, cv=5, scoring='recall')\n",
        "print('Recall', np.mean(recall), recall)\n",
        "precision = cross_val_score(classifier, X, y, cv=5, scoring='precision')\n",
        "print('Precision', np.mean(precision), precision)\n",
        "f1 = cross_val_score(classifier, X, y, cv=5, scoring='f1')\n",
        "print('F1', np.mean(f1), f1)\n",
        "\n",
        "print('                                         ')\n",
        "print('AdaBoostClassifier')\n",
        "print('============================================')\n",
        "\n",
        "classifier=AdaBoostClassifier()\n",
        "\n",
        "accuracy = cross_val_score(classifier, X, y, cv=5, scoring='accuracy')\n",
        "print('Mean of accuracy',np.mean(accuracy),accuracy)\n",
        "recall = cross_val_score(classifier, X, y, cv=strat_k_fold, scoring='recall')\n",
        "print('Recall', np.mean(recall), recall)\n",
        "precision = cross_val_score(classifier, X, y, cv=strat_k_fold, scoring='precision')\n",
        "print('Precision', np.mean(precision), precision)\n",
        "f1 = cross_val_score(classifier, X, y, cv=strat_k_fold, scoring='f1')\n",
        "print('F1', np.mean(f1), f1)\n",
        "\n",
        "\n",
        "print('                                         ')\n",
        "print('MLPClassifier')\n",
        "print('============================================')\n",
        "\n",
        "classifier=MLPClassifier(alpha=1)\n",
        "\n",
        "accuracy = cross_val_score(classifier, X, y, cv=5, scoring='accuracy')\n",
        "print('Mean of accuracy',np.mean(accuracy), accuracy)\n",
        "# recall = cross_val_score(classifier, X, y, cv=strat_k_fold, scoring='recall')\n",
        "print('Recall', np.mean(recall), recall)\n",
        "precision = cross_val_score(classifier, X, y, cv=strat_k_fold, scoring='precision')\n",
        "print('Precision', np.mean(precision), precision)\n",
        "f1 = cross_val_score(classifier, X, y, cv=strat_k_fold, scoring='f1')\n",
        "print('F1', np.mean(f1), f1)\n",
        "\n",
        "print('                                         ')\n",
        "print('XGBClassifier')\n",
        "print('============================================')\n",
        "\n",
        "classifier=XGBClassifier()\n",
        "\n",
        "accuracy = cross_val_score(classifier, X, y, cv=5, scoring='accuracy')\n",
        "print('Mean of accuracy',np.mean(accuracy), accuracy)\n",
        "recall = cross_val_score(classifier, X, y, cv=5, scoring='recall')\n",
        "print('Recall', np.mean(recall), recall)\n",
        "precision = cross_val_score(classifier, X, y, cv=5, scoring='precision')\n",
        "print('Precision', np.mean(precision), precision)\n",
        "f1 = cross_val_score(classifier, X, y, cv=5, scoring='f1')\n",
        "print('F1', np.mean(f1), f1)\n",
        "\n",
        "print('                                         ')\n",
        "print('GradientBoostingClassifier')\n",
        "print('============================================')\n",
        "\n",
        "classifier=GradientBoostingClassifier(n_estimators=100, learning_rate=1.0, max_depth=1, random_state=0)\n",
        "\n",
        "accuracy = cross_val_score(classifier, X, y, cv=5, scoring='accuracy')\n",
        "print('Mean of accuracy',np.mean(accuracy), accuracy)\n",
        "recall = cross_val_score(classifier, X, y, cv=strat_k_fold, scoring='recall')\n",
        "print('Recall', np.mean(recall), recall)\n",
        "precision = cross_val_score(classifier, X, y, cv=strat_k_fold, scoring='precision')\n",
        "print('Precision', np.mean(precision), precision)\n",
        "f1 = cross_val_score(classifier, X, y, cv=strat_k_fold, scoring='f1')\n",
        "print('F1', np.mean(f1), f1)\n",
        "start = time.time()\n",
        "\n",
        "print('                                         ')\n",
        "print('SVC RBF')\n",
        "print('============================================')\n",
        "\n",
        "classifier=SVC(kernel='rbf', random_state=0, gamma=.07, C=1)\n",
        "\n",
        "accuracy = cross_val_score(classifier, X, y, cv=5, scoring='accuracy')\n",
        "print('Mean of accuracy',np.mean(accuracy), accuracy)\n",
        "recall = cross_val_score(classifier, X, y, cv=5, scoring='recall')\n",
        "print('Recall', np.mean(recall), recall)\n",
        "precision = cross_val_score(classifier, X, y, cv=5, scoring='precision')\n",
        "print('Precision', np.mean(precision), precision)\n",
        "f1 = cross_val_score(classifier, X, y, cv=s5, scoring='f1')\n",
        "print('F1', np.mean(f1), f1)\n",
        "\n",
        "end = time.time()\n",
        "print('time consumed',end - start)\n",
        "\n",
        "print('                                         ')\n",
        "print('SVC Poly')\n",
        "print('============================================')\n",
        "\n",
        "classifier=SVC(kernel = 'poly', C = 1)\n",
        "\n",
        "accuracy = cross_val_score(classifier, X, y, cv=5, scoring='accuracy')\n",
        "print('Mean of accuracy',np.mean(accuracy), accuracy)\n",
        "recall = cross_val_score(classifier, X, y, cv=strat_k_fold, scoring='recall')\n",
        "print('Recall', np.mean(recall), recall)\n",
        "precision = cross_val_score(classifier, X, y, cv=strat_k_fold, scoring='precision')\n",
        "print('Precision', np.mean(precision), precision)\n",
        "f1 = cross_val_score(classifier, X, y, cv=strat_k_fold, scoring='f1')\n",
        "print('F1', np.mean(f1), f1)\n",
        "\n",
        "print('                                         ')\n",
        "print('SVC linear')\n",
        "print('============================================')\n",
        "\n",
        "classifier=SVC(kernel = 'linear')\n",
        "\n",
        "accuracy = cross_val_score(classifier, X, y, cv=5, scoring='accuracy')\n",
        "print('Mean of accuracy',np.mean(accuracy), accuracy)\n",
        "recall = cross_val_score(classifier, X, y, cv=strat_k_fold, scoring='recall')\n",
        "print('Recall', np.mean(recall), recall)\n",
        "precision = cross_val_score(classifier, X, y, cv=strat_k_fold, scoring='precision')\n",
        "print('Precision', np.mean(precision), precision)\n",
        "f1 = cross_val_score(classifier, X, y, cv=strat_k_fold, scoring='f1')\n",
        "print('F1', np.mean(f1), f1)\n",
        "\n",
        "\n",
        "print('                                         ')\n",
        "print('DecisionTreeClassifier')\n",
        "print('============================================')\n",
        "\n",
        "classifier=tree.DecisionTreeClassifier(criterion='gini')\n",
        "\n",
        "accuracy = cross_val_score(classifier, X, y, cv=5, scoring='accuracy')\n",
        "print('Mean of accuracy',np.mean(accuracy), accuracy)\n",
        "# recall = cross_val_score(classifier, X, y, cv=strat_k_fold, scoring='recall')\n",
        "print('Recall', np.mean(recall), recall)\n",
        "precision = cross_val_score(classifier, X, y, cv=strat_k_fold, scoring='precision')\n",
        "print('Precision', np.mean(precision), precision)\n",
        "f1 = cross_val_score(classifier, X, y, cv=strat_k_fold, scoring='f1')\n",
        "print('F1', np.mean(f1), f1)\n",
        "\n",
        "print('                                         ')\n",
        "print('Naive Bayes')\n",
        "print('============================================')\n",
        "\n",
        "classifier=GaussianNB()                                                                                                                           \n",
        "accuracy = cross_val_score(classifier, X, y, cv=5, scoring='accuracy')\n",
        "print('Mean of accuracy',np.mean(accuracy), accuracy)\n",
        "recall = cross_val_score(classifier, X, y, cv=strat_k_fold, scoring='recall')\n",
        "print('Recall', np.mean(recall), recall)\n",
        "precision = cross_val_score(classifier, X, y, cv=strat_k_fold, scoring='precision')\n",
        "print('Precision', np.mean(precision), precision)\n",
        "f1 = cross_val_score(classifier, X, y, cv=strat_k_fold, scoring='f1')\n",
        "print('F1', np.mean(f1), f1)\n"
      ],
      "execution_count": null,
      "outputs": []
    }
  ]
}